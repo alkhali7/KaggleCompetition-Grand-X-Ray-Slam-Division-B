{
 "cells": [
  {
   "cell_type": "markdown",
   "id": "2ef92ad8",
   "metadata": {
    "papermill": {
     "duration": 0.005554,
     "end_time": "2025-10-08T13:11:17.296066",
     "exception": false,
     "start_time": "2025-10-08T13:11:17.290512",
     "status": "completed"
    },
    "tags": []
   },
   "source": [
    "# ResNet contineud\n",
    "- Load prev trained model, more epochs, decrease learning rate"
   ]
  },
  {
   "cell_type": "code",
   "execution_count": 1,
   "id": "b9664968",
   "metadata": {
    "_cell_guid": "b1076dfc-b9ad-4769-8c92-a6c4dae69d19",
    "_uuid": "8f2839f25d086af736a60e9eeb907d3b93b6e0e5",
    "execution": {
     "iopub.execute_input": "2025-10-08T13:11:17.307742Z",
     "iopub.status.busy": "2025-10-08T13:11:17.306852Z",
     "iopub.status.idle": "2025-10-08T13:11:22.714131Z",
     "shell.execute_reply": "2025-10-08T13:11:22.713210Z"
    },
    "papermill": {
     "duration": 5.415061,
     "end_time": "2025-10-08T13:11:22.715995",
     "exception": false,
     "start_time": "2025-10-08T13:11:17.300934",
     "status": "completed"
    },
    "tags": []
   },
   "outputs": [
    {
     "name": "stdout",
     "output_type": "stream",
     "text": [
      "Collecting iterative-stratification\r\n",
      "  Downloading iterative_stratification-0.1.9-py3-none-any.whl.metadata (1.3 kB)\r\n",
      "Requirement already satisfied: numpy in /usr/local/lib/python3.11/dist-packages (from iterative-stratification) (1.26.4)\r\n",
      "Requirement already satisfied: scipy in /usr/local/lib/python3.11/dist-packages (from iterative-stratification) (1.15.3)\r\n",
      "Requirement already satisfied: scikit-learn in /usr/local/lib/python3.11/dist-packages (from iterative-stratification) (1.2.2)\r\n",
      "Requirement already satisfied: mkl_fft in /usr/local/lib/python3.11/dist-packages (from numpy->iterative-stratification) (1.3.8)\r\n",
      "Requirement already satisfied: mkl_random in /usr/local/lib/python3.11/dist-packages (from numpy->iterative-stratification) (1.2.4)\r\n",
      "Requirement already satisfied: mkl_umath in /usr/local/lib/python3.11/dist-packages (from numpy->iterative-stratification) (0.1.1)\r\n",
      "Requirement already satisfied: mkl in /usr/local/lib/python3.11/dist-packages (from numpy->iterative-stratification) (2025.2.0)\r\n",
      "Requirement already satisfied: tbb4py in /usr/local/lib/python3.11/dist-packages (from numpy->iterative-stratification) (2022.2.0)\r\n",
      "Requirement already satisfied: mkl-service in /usr/local/lib/python3.11/dist-packages (from numpy->iterative-stratification) (2.4.1)\r\n",
      "Requirement already satisfied: joblib>=1.1.1 in /usr/local/lib/python3.11/dist-packages (from scikit-learn->iterative-stratification) (1.5.2)\r\n",
      "Requirement already satisfied: threadpoolctl>=2.0.0 in /usr/local/lib/python3.11/dist-packages (from scikit-learn->iterative-stratification) (3.6.0)\r\n",
      "Requirement already satisfied: intel-openmp<2026,>=2024 in /usr/local/lib/python3.11/dist-packages (from mkl->numpy->iterative-stratification) (2024.2.0)\r\n",
      "Requirement already satisfied: tbb==2022.* in /usr/local/lib/python3.11/dist-packages (from mkl->numpy->iterative-stratification) (2022.2.0)\r\n",
      "Requirement already satisfied: tcmlib==1.* in /usr/local/lib/python3.11/dist-packages (from tbb==2022.*->mkl->numpy->iterative-stratification) (1.4.0)\r\n",
      "Requirement already satisfied: intel-cmplr-lib-rt in /usr/local/lib/python3.11/dist-packages (from mkl_umath->numpy->iterative-stratification) (2024.2.0)\r\n",
      "Requirement already satisfied: intel-cmplr-lib-ur==2024.2.0 in /usr/local/lib/python3.11/dist-packages (from intel-openmp<2026,>=2024->mkl->numpy->iterative-stratification) (2024.2.0)\r\n",
      "Downloading iterative_stratification-0.1.9-py3-none-any.whl (8.5 kB)\r\n",
      "Installing collected packages: iterative-stratification\r\n",
      "Successfully installed iterative-stratification-0.1.9\r\n"
     ]
    }
   ],
   "source": [
    "!pip install iterative-stratification"
   ]
  },
  {
   "cell_type": "code",
   "execution_count": 2,
   "id": "86948d58",
   "metadata": {
    "execution": {
     "iopub.execute_input": "2025-10-08T13:11:22.727324Z",
     "iopub.status.busy": "2025-10-08T13:11:22.726472Z",
     "iopub.status.idle": "2025-10-08T13:11:43.679674Z",
     "shell.execute_reply": "2025-10-08T13:11:43.678454Z"
    },
    "papermill": {
     "duration": 20.960401,
     "end_time": "2025-10-08T13:11:43.681128",
     "exception": false,
     "start_time": "2025-10-08T13:11:22.720727",
     "status": "completed"
    },
    "tags": []
   },
   "outputs": [
    {
     "name": "stderr",
     "output_type": "stream",
     "text": [
      "2025-10-08 13:11:24.780568: E external/local_xla/xla/stream_executor/cuda/cuda_fft.cc:477] Unable to register cuFFT factory: Attempting to register factory for plugin cuFFT when one has already been registered\n",
      "WARNING: All log messages before absl::InitializeLog() is called are written to STDERR\n",
      "E0000 00:00:1759929085.046579      13 cuda_dnn.cc:8310] Unable to register cuDNN factory: Attempting to register factory for plugin cuDNN when one has already been registered\n",
      "E0000 00:00:1759929085.116304      13 cuda_blas.cc:1418] Unable to register cuBLAS factory: Attempting to register factory for plugin cuBLAS when one has already been registered\n"
     ]
    },
    {
     "name": "stdout",
     "output_type": "stream",
     "text": [
      "GPUs Available: 0\n"
     ]
    },
    {
     "name": "stderr",
     "output_type": "stream",
     "text": [
      "2025-10-08 13:11:43.675338: E external/local_xla/xla/stream_executor/cuda/cuda_driver.cc:152] failed call to cuInit: INTERNAL: CUDA error: Failed call to cuInit: UNKNOWN ERROR (303)\n"
     ]
    }
   ],
   "source": [
    "import tensorflow as tf\n",
    "print(\"GPUs Available:\", len(tf.config.list_physical_devices('GPU')))\n"
   ]
  },
  {
   "cell_type": "code",
   "execution_count": 3,
   "id": "a42e454e",
   "metadata": {
    "execution": {
     "iopub.execute_input": "2025-10-08T13:11:43.692516Z",
     "iopub.status.busy": "2025-10-08T13:11:43.691887Z",
     "iopub.status.idle": "2025-10-08T13:11:44.493483Z",
     "shell.execute_reply": "2025-10-08T13:11:44.492485Z"
    },
    "papermill": {
     "duration": 0.809413,
     "end_time": "2025-10-08T13:11:44.495171",
     "exception": false,
     "start_time": "2025-10-08T13:11:43.685758",
     "status": "completed"
    },
    "tags": []
   },
   "outputs": [],
   "source": [
    "# Imports\n",
    "import matplotlib.pyplot as plt\n",
    "import seaborn as sns\n",
    "import pandas as pd\n",
    "import numpy as np\n",
    "import matplotlib.image as mpimg\n",
    "import random\n",
    "import tensorflow as tf\n",
    "from tensorflow.keras import layers, models\n",
    "from tensorflow.keras.preprocessing.image import ImageDataGenerator\n",
    "from sklearn.metrics import roc_auc_score\n",
    "from sklearn.model_selection import train_test_split\n",
    "from tensorflow.keras.models import Sequential\n",
    "from tensorflow.keras.layers import Conv2D, MaxPooling2D, Flatten, Dense, Dropout\n",
    "from tensorflow.keras.optimizers import Adam\n",
    "from tensorflow.keras.utils import Sequence\n",
    "import cv2\n",
    "import os\n",
    "import sys\n",
    "from io import StringIO\n",
    "from tensorflow.keras.models import Model\n",
    "from tensorflow.keras.layers import Dense, Dropout, GlobalAveragePooling2D\n",
    "from tensorflow.keras.optimizers import Adam\n",
    "from tensorflow.keras.utils import Sequence\n",
    "import tensorflow.keras.applications.resnet50 as resnet\n",
    "import warnings\n",
    "warnings.filterwarnings('ignore')"
   ]
  },
  {
   "cell_type": "code",
   "execution_count": 4,
   "id": "2a11ab25",
   "metadata": {
    "execution": {
     "iopub.execute_input": "2025-10-08T13:11:44.507139Z",
     "iopub.status.busy": "2025-10-08T13:11:44.506287Z",
     "iopub.status.idle": "2025-10-08T13:11:44.517015Z",
     "shell.execute_reply": "2025-10-08T13:11:44.515995Z"
    },
    "papermill": {
     "duration": 0.018481,
     "end_time": "2025-10-08T13:11:44.518574",
     "exception": false,
     "start_time": "2025-10-08T13:11:44.500093",
     "status": "completed"
    },
    "tags": []
   },
   "outputs": [
    {
     "name": "stdout",
     "output_type": "stream",
     "text": [
      "['resnetfinetune', 'resnetfinetune3epoch', 'grand-xray-slam-division-b', 'newresnet1']\n",
      "Filenames of the data ['test2', 'sample_submission_2.csv', 'train2.csv', 'train2']\n"
     ]
    }
   ],
   "source": [
    "print(os.listdir(\"/kaggle/input\"))\n",
    "\n",
    "# Path to competition dataset\n",
    "data_dir = \"/kaggle/input/grand-xray-slam-division-b\"\n",
    "# Check what files are inside\n",
    "print('Filenames of the data', os.listdir(data_dir))"
   ]
  },
  {
   "cell_type": "code",
   "execution_count": 5,
   "id": "10cbada1",
   "metadata": {
    "execution": {
     "iopub.execute_input": "2025-10-08T13:11:44.529140Z",
     "iopub.status.busy": "2025-10-08T13:11:44.528773Z",
     "iopub.status.idle": "2025-10-08T13:11:44.967395Z",
     "shell.execute_reply": "2025-10-08T13:11:44.966348Z"
    },
    "papermill": {
     "duration": 0.445393,
     "end_time": "2025-10-08T13:11:44.968878",
     "exception": false,
     "start_time": "2025-10-08T13:11:44.523485",
     "status": "completed"
    },
    "tags": []
   },
   "outputs": [
    {
     "name": "stdout",
     "output_type": "stream",
     "text": [
      "Metadata shape: (108494, 21)\n"
     ]
    },
    {
     "data": {
      "text/html": [
       "<div>\n",
       "<style scoped>\n",
       "    .dataframe tbody tr th:only-of-type {\n",
       "        vertical-align: middle;\n",
       "    }\n",
       "\n",
       "    .dataframe tbody tr th {\n",
       "        vertical-align: top;\n",
       "    }\n",
       "\n",
       "    .dataframe thead th {\n",
       "        text-align: right;\n",
       "    }\n",
       "</style>\n",
       "<table border=\"1\" class=\"dataframe\">\n",
       "  <thead>\n",
       "    <tr style=\"text-align: right;\">\n",
       "      <th></th>\n",
       "      <th>Image_name</th>\n",
       "      <th>Patient_ID</th>\n",
       "      <th>Study</th>\n",
       "      <th>Sex</th>\n",
       "      <th>Age</th>\n",
       "      <th>ViewCategory</th>\n",
       "      <th>ViewPosition</th>\n",
       "      <th>Atelectasis</th>\n",
       "      <th>Cardiomegaly</th>\n",
       "      <th>Consolidation</th>\n",
       "      <th>...</th>\n",
       "      <th>Enlarged Cardiomediastinum</th>\n",
       "      <th>Fracture</th>\n",
       "      <th>Lung Lesion</th>\n",
       "      <th>Lung Opacity</th>\n",
       "      <th>No Finding</th>\n",
       "      <th>Pleural Effusion</th>\n",
       "      <th>Pleural Other</th>\n",
       "      <th>Pneumonia</th>\n",
       "      <th>Pneumothorax</th>\n",
       "      <th>Support Devices</th>\n",
       "    </tr>\n",
       "  </thead>\n",
       "  <tbody>\n",
       "    <tr>\n",
       "      <th>0</th>\n",
       "      <td>00000003_001_001.jpg</td>\n",
       "      <td>3</td>\n",
       "      <td>1</td>\n",
       "      <td>Male</td>\n",
       "      <td>41.0</td>\n",
       "      <td>Frontal</td>\n",
       "      <td>AP</td>\n",
       "      <td>0</td>\n",
       "      <td>1</td>\n",
       "      <td>0</td>\n",
       "      <td>...</td>\n",
       "      <td>1</td>\n",
       "      <td>0</td>\n",
       "      <td>0</td>\n",
       "      <td>1</td>\n",
       "      <td>0</td>\n",
       "      <td>0</td>\n",
       "      <td>0</td>\n",
       "      <td>0</td>\n",
       "      <td>0</td>\n",
       "      <td>0</td>\n",
       "    </tr>\n",
       "    <tr>\n",
       "      <th>1</th>\n",
       "      <td>00000004_001_001.jpg</td>\n",
       "      <td>4</td>\n",
       "      <td>1</td>\n",
       "      <td>Female</td>\n",
       "      <td>20.0</td>\n",
       "      <td>Frontal</td>\n",
       "      <td>PA</td>\n",
       "      <td>0</td>\n",
       "      <td>0</td>\n",
       "      <td>0</td>\n",
       "      <td>...</td>\n",
       "      <td>0</td>\n",
       "      <td>0</td>\n",
       "      <td>0</td>\n",
       "      <td>0</td>\n",
       "      <td>1</td>\n",
       "      <td>0</td>\n",
       "      <td>0</td>\n",
       "      <td>0</td>\n",
       "      <td>0</td>\n",
       "      <td>0</td>\n",
       "    </tr>\n",
       "    <tr>\n",
       "      <th>2</th>\n",
       "      <td>00000004_001_002.jpg</td>\n",
       "      <td>4</td>\n",
       "      <td>1</td>\n",
       "      <td>Female</td>\n",
       "      <td>20.0</td>\n",
       "      <td>Lateral</td>\n",
       "      <td>Lateral</td>\n",
       "      <td>0</td>\n",
       "      <td>0</td>\n",
       "      <td>0</td>\n",
       "      <td>...</td>\n",
       "      <td>0</td>\n",
       "      <td>0</td>\n",
       "      <td>0</td>\n",
       "      <td>0</td>\n",
       "      <td>1</td>\n",
       "      <td>0</td>\n",
       "      <td>0</td>\n",
       "      <td>0</td>\n",
       "      <td>0</td>\n",
       "      <td>0</td>\n",
       "    </tr>\n",
       "    <tr>\n",
       "      <th>3</th>\n",
       "      <td>00000006_001_001.jpg</td>\n",
       "      <td>6</td>\n",
       "      <td>1</td>\n",
       "      <td>Female</td>\n",
       "      <td>42.0</td>\n",
       "      <td>Frontal</td>\n",
       "      <td>AP</td>\n",
       "      <td>0</td>\n",
       "      <td>0</td>\n",
       "      <td>0</td>\n",
       "      <td>...</td>\n",
       "      <td>0</td>\n",
       "      <td>0</td>\n",
       "      <td>0</td>\n",
       "      <td>0</td>\n",
       "      <td>1</td>\n",
       "      <td>0</td>\n",
       "      <td>0</td>\n",
       "      <td>0</td>\n",
       "      <td>0</td>\n",
       "      <td>0</td>\n",
       "    </tr>\n",
       "    <tr>\n",
       "      <th>4</th>\n",
       "      <td>00000010_001_001.jpg</td>\n",
       "      <td>10</td>\n",
       "      <td>1</td>\n",
       "      <td>Female</td>\n",
       "      <td>50.0</td>\n",
       "      <td>Frontal</td>\n",
       "      <td>PA</td>\n",
       "      <td>0</td>\n",
       "      <td>0</td>\n",
       "      <td>0</td>\n",
       "      <td>...</td>\n",
       "      <td>0</td>\n",
       "      <td>0</td>\n",
       "      <td>0</td>\n",
       "      <td>0</td>\n",
       "      <td>1</td>\n",
       "      <td>0</td>\n",
       "      <td>0</td>\n",
       "      <td>0</td>\n",
       "      <td>0</td>\n",
       "      <td>0</td>\n",
       "    </tr>\n",
       "  </tbody>\n",
       "</table>\n",
       "<p>5 rows × 21 columns</p>\n",
       "</div>"
      ],
      "text/plain": [
       "             Image_name  Patient_ID  Study     Sex   Age ViewCategory  \\\n",
       "0  00000003_001_001.jpg           3      1    Male  41.0      Frontal   \n",
       "1  00000004_001_001.jpg           4      1  Female  20.0      Frontal   \n",
       "2  00000004_001_002.jpg           4      1  Female  20.0      Lateral   \n",
       "3  00000006_001_001.jpg           6      1  Female  42.0      Frontal   \n",
       "4  00000010_001_001.jpg          10      1  Female  50.0      Frontal   \n",
       "\n",
       "  ViewPosition  Atelectasis  Cardiomegaly  Consolidation  ...  \\\n",
       "0           AP            0             1              0  ...   \n",
       "1           PA            0             0              0  ...   \n",
       "2      Lateral            0             0              0  ...   \n",
       "3           AP            0             0              0  ...   \n",
       "4           PA            0             0              0  ...   \n",
       "\n",
       "   Enlarged Cardiomediastinum  Fracture  Lung Lesion  Lung Opacity  \\\n",
       "0                           1         0            0             1   \n",
       "1                           0         0            0             0   \n",
       "2                           0         0            0             0   \n",
       "3                           0         0            0             0   \n",
       "4                           0         0            0             0   \n",
       "\n",
       "   No Finding  Pleural Effusion  Pleural Other  Pneumonia  Pneumothorax  \\\n",
       "0           0                 0              0          0             0   \n",
       "1           1                 0              0          0             0   \n",
       "2           1                 0              0          0             0   \n",
       "3           1                 0              0          0             0   \n",
       "4           1                 0              0          0             0   \n",
       "\n",
       "   Support Devices  \n",
       "0                0  \n",
       "1                0  \n",
       "2                0  \n",
       "3                0  \n",
       "4                0  \n",
       "\n",
       "[5 rows x 21 columns]"
      ]
     },
     "execution_count": 5,
     "metadata": {},
     "output_type": "execute_result"
    }
   ],
   "source": [
    "# Load the training CSV metadata with labels\n",
    "train = pd.read_csv(\"/kaggle/input/grand-xray-slam-division-b/train2.csv\")\n",
    "\n",
    "print('Metadata shape:',train.shape)\n",
    "train.head()"
   ]
  },
  {
   "cell_type": "code",
   "execution_count": 6,
   "id": "45410456",
   "metadata": {
    "execution": {
     "iopub.execute_input": "2025-10-08T13:11:44.980597Z",
     "iopub.status.busy": "2025-10-08T13:11:44.979815Z",
     "iopub.status.idle": "2025-10-08T13:11:45.072617Z",
     "shell.execute_reply": "2025-10-08T13:11:45.071248Z"
    },
    "papermill": {
     "duration": 0.100563,
     "end_time": "2025-10-08T13:11:45.074443",
     "exception": false,
     "start_time": "2025-10-08T13:11:44.973880",
     "status": "completed"
    },
    "tags": []
   },
   "outputs": [],
   "source": [
    "# 1. Feature & Target Preperation\n",
    "# Define labels\n",
    "conditions = [\n",
    "    'Atelectasis', 'Cardiomegaly', 'Consolidation', 'Edema', 'Enlarged Cardiomediastinum',\n",
    "    'Fracture', 'Lung Lesion', 'Lung Opacity', 'No Finding', 'Pleural Effusion',\n",
    "    'Pleural Other', 'Pneumonia', 'Pneumothorax', 'Support Devices'\n",
    "]\n",
    "# Features you want\n",
    "features = [\"ViewCategory\", \"ViewPosition\", \"Age\", \"Sex\"]\n",
    "\n",
    "# Encode categorical features\n",
    "from sklearn.preprocessing import LabelEncoder\n",
    "\n",
    "train_enc = train.copy()   # train data encoded\n",
    "for col in [\"ViewCategory\", \"ViewPosition\", \"Sex\"]:  # features that can be encoded\n",
    "    le = LabelEncoder()\n",
    "    train_enc[col] = le.fit_transform(train[col].astype(str))\n",
    "\n",
    "X = train_enc[features].values\n",
    "y = train[conditions].values"
   ]
  },
  {
   "cell_type": "code",
   "execution_count": 7,
   "id": "ef2bc939",
   "metadata": {
    "execution": {
     "iopub.execute_input": "2025-10-08T13:11:45.086298Z",
     "iopub.status.busy": "2025-10-08T13:11:45.085971Z",
     "iopub.status.idle": "2025-10-08T13:11:45.091219Z",
     "shell.execute_reply": "2025-10-08T13:11:45.090253Z"
    },
    "papermill": {
     "duration": 0.012734,
     "end_time": "2025-10-08T13:11:45.092747",
     "exception": false,
     "start_time": "2025-10-08T13:11:45.080013",
     "status": "completed"
    },
    "tags": []
   },
   "outputs": [
    {
     "name": "stdout",
     "output_type": "stream",
     "text": [
      "(108494, 4)\n",
      "(108494, 14)\n"
     ]
    }
   ],
   "source": [
    "print(X.shape) # 4 features (ViewCategory, ViewPosition, Age, Sex)\n",
    "print(y.shape)  # 14 conditions"
   ]
  },
  {
   "cell_type": "code",
   "execution_count": 8,
   "id": "8d144b4f",
   "metadata": {
    "execution": {
     "iopub.execute_input": "2025-10-08T13:11:45.104555Z",
     "iopub.status.busy": "2025-10-08T13:11:45.103972Z",
     "iopub.status.idle": "2025-10-08T13:11:45.130108Z",
     "shell.execute_reply": "2025-10-08T13:11:45.129176Z"
    },
    "papermill": {
     "duration": 0.033959,
     "end_time": "2025-10-08T13:11:45.131830",
     "exception": false,
     "start_time": "2025-10-08T13:11:45.097871",
     "status": "completed"
    },
    "tags": []
   },
   "outputs": [],
   "source": [
    "# 2. Adding ViewBalancing for Stratification: ViewCategory= Frontal, Lateral; since ViewCategory is unbalanced\n",
    "\n",
    "# One-hot encode ViewCategory and append to \n",
    "view_onehot = pd.get_dummies(train[\"ViewCategory\"], prefix=\"view\").values\n",
    "\n",
    "y_aug = np.hstack([y, view_onehot])  # augmented target matrix (added ViewCategory as y to stratify and reduce bias)"
   ]
  },
  {
   "cell_type": "code",
   "execution_count": 9,
   "id": "91ed2085",
   "metadata": {
    "execution": {
     "iopub.execute_input": "2025-10-08T13:11:45.143072Z",
     "iopub.status.busy": "2025-10-08T13:11:45.142756Z",
     "iopub.status.idle": "2025-10-08T13:11:45.149089Z",
     "shell.execute_reply": "2025-10-08T13:11:45.148133Z"
    },
    "papermill": {
     "duration": 0.014063,
     "end_time": "2025-10-08T13:11:45.150825",
     "exception": false,
     "start_time": "2025-10-08T13:11:45.136762",
     "status": "completed"
    },
    "tags": []
   },
   "outputs": [
    {
     "data": {
      "text/plain": [
       "(108494, 16)"
      ]
     },
     "execution_count": 9,
     "metadata": {},
     "output_type": "execute_result"
    }
   ],
   "source": [
    "y_aug.shape"
   ]
  },
  {
   "cell_type": "markdown",
   "id": "41be9681",
   "metadata": {
    "papermill": {
     "duration": 0.004679,
     "end_time": "2025-10-08T13:11:45.160631",
     "exception": false,
     "start_time": "2025-10-08T13:11:45.155952",
     "status": "completed"
    },
    "tags": []
   },
   "source": [
    "# MSKF"
   ]
  },
  {
   "cell_type": "code",
   "execution_count": 10,
   "id": "fe4062de",
   "metadata": {
    "execution": {
     "iopub.execute_input": "2025-10-08T13:11:45.171819Z",
     "iopub.status.busy": "2025-10-08T13:11:45.171481Z",
     "iopub.status.idle": "2025-10-08T13:11:48.148544Z",
     "shell.execute_reply": "2025-10-08T13:11:48.147542Z"
    },
    "papermill": {
     "duration": 2.987895,
     "end_time": "2025-10-08T13:11:48.153465",
     "exception": false,
     "start_time": "2025-10-08T13:11:45.165570",
     "status": "completed"
    },
    "tags": []
   },
   "outputs": [
    {
     "name": "stdout",
     "output_type": "stream",
     "text": [
      "Fold 0\n",
      " Train: 86795  Val: 21699\n",
      "  Train views: {'Frontal': 76011, 'Lateral': 10784}\n",
      "  Val views: {'Frontal': 19003, 'Lateral': 2696}\n",
      "  Train labels sum: {'Atelectasis': 30890, 'Cardiomegaly': 27984, 'Consolidation': 23715, 'Edema': 21254, 'Enlarged Cardiomediastinum': 30053, 'Fracture': 11662, 'Lung Lesion': 9885, 'Lung Opacity': 39217, 'No Finding': 27391, 'Pleural Effusion': 27655, 'Pleural Other': 5544, 'Pneumonia': 11453, 'Pneumothorax': 6991, 'Support Devices': 29908}\n",
      "  Val labels sum: {'Atelectasis': 7723, 'Cardiomegaly': 6996, 'Consolidation': 5929, 'Edema': 5313, 'Enlarged Cardiomediastinum': 7513, 'Fracture': 2916, 'Lung Lesion': 2472, 'Lung Opacity': 9805, 'No Finding': 6974, 'Pleural Effusion': 6914, 'Pleural Other': 1387, 'Pneumonia': 2863, 'Pneumothorax': 1747, 'Support Devices': 7477}\n",
      "------------------------------------------------------------\n",
      "Fold 1\n",
      " Train: 86795  Val: 21699\n",
      "  Train views: {'Frontal': 76011, 'Lateral': 10784}\n",
      "  Val views: {'Frontal': 19003, 'Lateral': 2696}\n",
      "  Train labels sum: {'Atelectasis': 30891, 'Cardiomegaly': 27984, 'Consolidation': 23716, 'Edema': 21254, 'Enlarged Cardiomediastinum': 30053, 'Fracture': 11662, 'Lung Lesion': 9886, 'Lung Opacity': 39218, 'No Finding': 27668, 'Pleural Effusion': 27656, 'Pleural Other': 5545, 'Pneumonia': 11453, 'Pneumothorax': 6991, 'Support Devices': 29908}\n",
      "  Val labels sum: {'Atelectasis': 7722, 'Cardiomegaly': 6996, 'Consolidation': 5928, 'Edema': 5313, 'Enlarged Cardiomediastinum': 7513, 'Fracture': 2916, 'Lung Lesion': 2471, 'Lung Opacity': 9804, 'No Finding': 6697, 'Pleural Effusion': 6913, 'Pleural Other': 1386, 'Pneumonia': 2863, 'Pneumothorax': 1747, 'Support Devices': 7477}\n",
      "------------------------------------------------------------\n",
      "Fold 2\n",
      " Train: 86795  Val: 21699\n",
      "  Train views: {'Frontal': 76011, 'Lateral': 10784}\n",
      "  Val views: {'Frontal': 19003, 'Lateral': 2696}\n",
      "  Train labels sum: {'Atelectasis': 30890, 'Cardiomegaly': 27984, 'Consolidation': 23715, 'Edema': 21254, 'Enlarged Cardiomediastinum': 30053, 'Fracture': 11662, 'Lung Lesion': 9885, 'Lung Opacity': 39217, 'No Finding': 27408, 'Pleural Effusion': 27655, 'Pleural Other': 5545, 'Pneumonia': 11452, 'Pneumothorax': 6990, 'Support Devices': 29908}\n",
      "  Val labels sum: {'Atelectasis': 7723, 'Cardiomegaly': 6996, 'Consolidation': 5929, 'Edema': 5313, 'Enlarged Cardiomediastinum': 7513, 'Fracture': 2916, 'Lung Lesion': 2472, 'Lung Opacity': 9805, 'No Finding': 6957, 'Pleural Effusion': 6914, 'Pleural Other': 1386, 'Pneumonia': 2864, 'Pneumothorax': 1748, 'Support Devices': 7477}\n",
      "------------------------------------------------------------\n",
      "Fold 3\n",
      " Train: 86795  Val: 21699\n",
      "  Train views: {'Frontal': 76011, 'Lateral': 10784}\n",
      "  Val views: {'Frontal': 19003, 'Lateral': 2696}\n",
      "  Train labels sum: {'Atelectasis': 30890, 'Cardiomegaly': 27984, 'Consolidation': 23715, 'Edema': 21253, 'Enlarged Cardiomediastinum': 30053, 'Fracture': 11663, 'Lung Lesion': 9886, 'Lung Opacity': 39218, 'No Finding': 27423, 'Pleural Effusion': 27655, 'Pleural Other': 5545, 'Pneumonia': 11453, 'Pneumothorax': 6990, 'Support Devices': 29908}\n",
      "  Val labels sum: {'Atelectasis': 7723, 'Cardiomegaly': 6996, 'Consolidation': 5929, 'Edema': 5314, 'Enlarged Cardiomediastinum': 7513, 'Fracture': 2915, 'Lung Lesion': 2471, 'Lung Opacity': 9804, 'No Finding': 6942, 'Pleural Effusion': 6914, 'Pleural Other': 1386, 'Pneumonia': 2863, 'Pneumothorax': 1748, 'Support Devices': 7477}\n",
      "------------------------------------------------------------\n",
      "Fold 4\n",
      " Train: 86796  Val: 21698\n",
      "  Train views: {'Frontal': 76012, 'Lateral': 10784}\n",
      "  Val views: {'Frontal': 19002, 'Lateral': 2696}\n",
      "  Train labels sum: {'Atelectasis': 30891, 'Cardiomegaly': 27984, 'Consolidation': 23715, 'Edema': 21253, 'Enlarged Cardiomediastinum': 30052, 'Fracture': 11663, 'Lung Lesion': 9886, 'Lung Opacity': 39218, 'No Finding': 27570, 'Pleural Effusion': 27655, 'Pleural Other': 5545, 'Pneumonia': 11453, 'Pneumothorax': 6990, 'Support Devices': 29908}\n",
      "  Val labels sum: {'Atelectasis': 7722, 'Cardiomegaly': 6996, 'Consolidation': 5929, 'Edema': 5314, 'Enlarged Cardiomediastinum': 7514, 'Fracture': 2915, 'Lung Lesion': 2471, 'Lung Opacity': 9804, 'No Finding': 6795, 'Pleural Effusion': 6914, 'Pleural Other': 1386, 'Pneumonia': 2863, 'Pneumothorax': 1748, 'Support Devices': 7477}\n",
      "------------------------------------------------------------\n",
      "✅ Selected Fold 1 — Train (86795, 21), Val (21699, 21)\n"
     ]
    }
   ],
   "source": [
    "from iterstrat.ml_stratifiers import MultilabelStratifiedKFold\n",
    "\n",
    "# 3. Multilabel Stratified K-Fold Split\n",
    "mskf = MultilabelStratifiedKFold(n_splits=5, shuffle=True, random_state=42)\n",
    "folds = []\n",
    "for fold, (train_idx, val_idx) in enumerate(mskf.split(X, y_aug)):\n",
    "    print(f\"Fold {fold}\")\n",
    "    print(\" Train:\", len(train_idx), \" Val:\", len(val_idx))\n",
    "\n",
    "    train_df = train.iloc[train_idx].reset_index(drop=True)\n",
    "    val_df   = train.iloc[val_idx].reset_index(drop=True)\n",
    "\n",
    "    # Check condition + view balance\n",
    "    print(\"  Train views:\", train_df[\"ViewCategory\"].value_counts().to_dict())\n",
    "    print(\"  Val views:\", val_df[\"ViewCategory\"].value_counts().to_dict())\n",
    "    print(\"  Train labels sum:\", train_df[conditions].sum().to_dict())\n",
    "    print(\"  Val labels sum:\", val_df[conditions].sum().to_dict())\n",
    "    print(\"-\"*60)\n",
    "    \n",
    "    folds.append((train_df, val_df))\n",
    "\n",
    "# Use first fold for training\n",
    "train_df, val_df = folds[0]\n",
    "print(f\"✅ Selected Fold 1 — Train {train_df.shape}, Val {val_df.shape}\")"
   ]
  },
  {
   "cell_type": "markdown",
   "id": "504470b7",
   "metadata": {
    "papermill": {
     "duration": 0.005005,
     "end_time": "2025-10-08T13:11:48.164150",
     "exception": false,
     "start_time": "2025-10-08T13:11:48.159145",
     "status": "completed"
    },
    "tags": []
   },
   "source": [
    "# data generator"
   ]
  },
  {
   "cell_type": "code",
   "execution_count": 11,
   "id": "13d3ce1d",
   "metadata": {
    "execution": {
     "iopub.execute_input": "2025-10-08T13:11:48.176397Z",
     "iopub.status.busy": "2025-10-08T13:11:48.176020Z",
     "iopub.status.idle": "2025-10-08T13:11:48.329050Z",
     "shell.execute_reply": "2025-10-08T13:11:48.327937Z"
    },
    "papermill": {
     "duration": 0.161101,
     "end_time": "2025-10-08T13:11:48.330608",
     "exception": false,
     "start_time": "2025-10-08T13:11:48.169507",
     "status": "completed"
    },
    "tags": []
   },
   "outputs": [
    {
     "name": "stdout",
     "output_type": "stream",
     "text": [
      "Data generators created.\n",
      "✅ Data generators ready — Train, Val, and Test loaded.\n"
     ]
    }
   ],
   "source": [
    "class XRayDataGenerator(Sequence):\n",
    "    def __init__(self, dataframe, batch_size=32, img_size=(224, 224), is_test=False, **kwargs):\n",
    "        super().__init__(**kwargs)\n",
    "        self.dataframe = dataframe.reset_index(drop=True)\n",
    "        self.batch_size = batch_size\n",
    "        self.img_size = img_size\n",
    "        self.is_test = is_test\n",
    "        self.image_dir = '/kaggle/input/grand-xray-slam-division-b/train2/' if not is_test else '/kaggle/input/grand-xray-slam-division-b/test2/'\n",
    "        self.conditions = conditions\n",
    "        \n",
    "        if not os.path.exists(self.image_dir):\n",
    "            print(f\"Error: Directory {self.image_dir} not found.\")\n",
    "            raise FileNotFoundError(f\"Directory {self.image_dir} missing.\")\n",
    "    \n",
    "    def __len__(self):\n",
    "        return (len(self.dataframe) + self.batch_size - 1) // self.batch_size\n",
    "    \n",
    "    def __getitem__(self, idx):\n",
    "        start = idx * self.batch_size\n",
    "        end = min(start + self.batch_size, len(self.dataframe))\n",
    "        batch_data = self.dataframe.iloc[start:end]\n",
    "        \n",
    "        images, labels = [], []\n",
    "        \n",
    "        for _, row in batch_data.iterrows():\n",
    "            img_path = os.path.join(self.image_dir, row['Image_name'])\n",
    "            img = cv2.imread(img_path, cv2.IMREAD_COLOR)\n",
    "            \n",
    "            if img is not None and img.shape[0] > 0 and img.shape[1] > 0:\n",
    "                img = cv2.resize(img, self.img_size)\n",
    "                img = resnet.preprocess_input(img)\n",
    "                images.append(img)\n",
    "                \n",
    "                if not self.is_test:\n",
    "                    labels.append(row[self.conditions].values.astype(np.float32))\n",
    "        \n",
    "        if not images:\n",
    "            dummy_img = np.zeros((*self.img_size, 3), dtype=np.float32)\n",
    "            images.append(dummy_img)\n",
    "            if not self.is_test:\n",
    "                labels.append(np.zeros(len(self.conditions), dtype=np.float32))\n",
    "        \n",
    "        if not self.is_test:\n",
    "            return np.array(images), np.array(labels)\n",
    "        else:\n",
    "            return np.array(images)\n",
    "\n",
    "# Create generators\n",
    "batch_size = 32\n",
    "train_generator = XRayDataGenerator(train_df, batch_size=batch_size)\n",
    "val_generator = XRayDataGenerator(val_df, batch_size=batch_size)\n",
    "print(\"Data generators created.\")\n",
    "\n",
    "# Also define test_df (important for submission)\n",
    "test_df = pd.read_csv(\"/kaggle/input/grand-xray-slam-division-b/sample_submission_2.csv\")\n",
    "test_df[\"Image_name\"] = test_df[\"Image_name\"].astype(str)\n",
    "\n",
    "print(\"✅ Data generators ready — Train, Val, and Test loaded.\")"
   ]
  },
  {
   "cell_type": "markdown",
   "id": "2e9f8616",
   "metadata": {
    "papermill": {
     "duration": 0.005022,
     "end_time": "2025-10-08T13:11:48.340972",
     "exception": false,
     "start_time": "2025-10-08T13:11:48.335950",
     "status": "completed"
    },
    "tags": []
   },
   "source": [
    "# resnet improved "
   ]
  },
  {
   "cell_type": "code",
   "execution_count": 12,
   "id": "aba306c3",
   "metadata": {
    "execution": {
     "iopub.execute_input": "2025-10-08T13:11:48.352402Z",
     "iopub.status.busy": "2025-10-08T13:11:48.352066Z",
     "iopub.status.idle": "2025-10-08T13:11:55.623563Z",
     "shell.execute_reply": "2025-10-08T13:11:55.622584Z"
    },
    "papermill": {
     "duration": 7.279035,
     "end_time": "2025-10-08T13:11:55.625159",
     "exception": false,
     "start_time": "2025-10-08T13:11:48.346124",
     "status": "completed"
    },
    "tags": []
   },
   "outputs": [
    {
     "name": "stdout",
     "output_type": "stream",
     "text": [
      "Downloading data from https://storage.googleapis.com/tensorflow/keras-applications/resnet/resnet50_weights_tf_dim_ordering_tf_kernels_notop.h5\n",
      "\u001b[1m94765736/94765736\u001b[0m \u001b[32m━━━━━━━━━━━━━━━━━━━━\u001b[0m\u001b[37m\u001b[0m \u001b[1m3s\u001b[0m 0us/step\n",
      "✅ Weights loaded successfully.\n",
      "model created successfully\n",
      "Model Architecture: ResNet50 + Custom Head\n",
      "Total parameters: 24,115,854\n",
      "Trainable parameters: 528,142\n",
      "Non-trainable parameters: 23,587,712\n",
      "Model compiled successfully!\n"
     ]
    }
   ],
   "source": [
    "# from tensorflow.keras.applications import EfficientNetB0\n",
    "from tensorflow.keras.applications import ResNet50\n",
    "\n",
    "def build_resnet_model(num_classes=14):\n",
    "    # Load Resnet with cached ImageNet weights\n",
    "    base_model = ResNet50(weights=\"imagenet\",  include_top=False, input_shape=(224, 224, 3))\n",
    "    \n",
    "    print(\"✅ Weights loaded successfully.\")\n",
    "    base_model.trainable = False   # freeze backbone for now\n",
    "    \n",
    "    # add custom head\n",
    "    inputs = base_model.input\n",
    "    x = base_model.output\n",
    "    x = GlobalAveragePooling2D()(x)\n",
    "    x = Dense(256, activation=\"relu\")(x)\n",
    "    x = Dropout(0.5)(x)\n",
    "    outputs = Dense(num_classes, activation=\"sigmoid\")(x)  # multilabel\n",
    "    \n",
    "    model = Model(inputs, outputs)\n",
    "    print(\"model created successfully\")\n",
    "    return model\n",
    "    \n",
    "# load resnet baseline model with AUC=0.87 public final_resnet_model.h5\n",
    "from tensorflow.keras.models import load_model\n",
    "model = build_resnet_model(num_classes=14)\n",
    "model.load_weights(\"/kaggle/input/newresnet1/keras/default/1/final_resnet_model.h5\")\n",
    "\n",
    "model.compile(\n",
    "    optimizer=Adam(learning_rate=0.0001), loss=\"binary_crossentropy\", metrics=[tf.keras.metrics.AUC(name=\"auc\")]\n",
    ")\n",
    "\n",
    "print(\"Model Architecture: ResNet50 + Custom Head\")\n",
    "print(f\"Total parameters: {model.count_params():,}\")\n",
    "trainable_params = sum([tf.size(v).numpy() for v in model.trainable_variables])\n",
    "print(f\"Trainable parameters: {trainable_params:,}\")\n",
    "print(f\"Non-trainable parameters: {model.count_params() - trainable_params:,}\")\n",
    "print(\"Model compiled successfully!\")"
   ]
  },
  {
   "cell_type": "code",
   "execution_count": 13,
   "id": "5990c700",
   "metadata": {
    "execution": {
     "iopub.execute_input": "2025-10-08T13:11:55.642515Z",
     "iopub.status.busy": "2025-10-08T13:11:55.642190Z",
     "iopub.status.idle": "2025-10-08T18:43:52.693729Z",
     "shell.execute_reply": "2025-10-08T18:43:52.692103Z"
    },
    "papermill": {
     "duration": 19917.06407,
     "end_time": "2025-10-08T18:43:52.697396",
     "exception": false,
     "start_time": "2025-10-08T13:11:55.633326",
     "status": "completed"
    },
    "tags": []
   },
   "outputs": [
    {
     "name": "stdout",
     "output_type": "stream",
     "text": [
      "✅ Weights loaded successfully.\n",
      "model created successfully\n",
      "✅ Model compiled successfully!\n",
      "Epoch 4/5\n",
      "\u001b[1m2713/2713\u001b[0m \u001b[32m━━━━━━━━━━━━━━━━━━━━\u001b[0m\u001b[37m\u001b[0m \u001b[1m0s\u001b[0m 3s/step - auc: 0.9030 - loss: 0.3274\n",
      "Epoch 4: saving model to resnet_finetune_epoch_04_valAUC_0.9099.weights.h5\n",
      "\u001b[1m2713/2713\u001b[0m \u001b[32m━━━━━━━━━━━━━━━━━━━━\u001b[0m\u001b[37m\u001b[0m \u001b[1m10118s\u001b[0m 4s/step - auc: 0.9030 - loss: 0.3274 - val_auc: 0.9099 - val_loss: 0.3209 - learning_rate: 1.0000e-04\n",
      "Epoch 5/5\n",
      "\u001b[1m2713/2713\u001b[0m \u001b[32m━━━━━━━━━━━━━━━━━━━━\u001b[0m\u001b[37m\u001b[0m \u001b[1m0s\u001b[0m 3s/step - auc: 0.9043 - loss: 0.3253\n",
      "Epoch 5: saving model to resnet_finetune_epoch_05_valAUC_0.9100.weights.h5\n",
      "\u001b[1m2713/2713\u001b[0m \u001b[32m━━━━━━━━━━━━━━━━━━━━\u001b[0m\u001b[37m\u001b[0m \u001b[1m9790s\u001b[0m 4s/step - auc: 0.9043 - loss: 0.3253 - val_auc: 0.9100 - val_loss: 0.3192 - learning_rate: 1.0000e-04\n",
      "✅ Continued fine-tuning done — new Validation AUC ≈ 0.9100\n"
     ]
    },
    {
     "data": {
      "text/html": [
       "<a href='final_resnet_finetuned.h5' target='_blank'>final_resnet_finetuned.h5</a><br>"
      ],
      "text/plain": [
       "/kaggle/working/final_resnet_finetuned.h5"
      ]
     },
     "execution_count": 13,
     "metadata": {},
     "output_type": "execute_result"
    }
   ],
   "source": [
    "from tensorflow.keras.callbacks import ModelCheckpoint, ReduceLROnPlateau, EarlyStopping\n",
    "\n",
    "callbacks = [\n",
    "    ModelCheckpoint(\"resnet_finetune_epoch_{epoch:02d}_valAUC_{val_auc:.4f}.weights.h5\", save_weights_only=True, save_best_only=False,\n",
    "                    monitor=\"val_auc\", mode=\"max\", verbose=1),\n",
    "    ReduceLROnPlateau(monitor=\"val_auc\", factor=0.5, patience=2, mode=\"max\", verbose=1),\n",
    "    EarlyStopping(monitor=\"val_auc\", patience=5, mode=\"max\", restore_best_weights=True)\n",
    "]\n",
    "model = build_resnet_model(num_classes=14)\n",
    "model.load_weights(\"/kaggle/input/resnetfinetune3epoch/resnet_finetune.weights.h5\")   # continue training from last best weights\n",
    "# 🔧 Compile before training\n",
    "model.compile(\n",
    "    optimizer=Adam(learning_rate=1e-4),\n",
    "    loss=\"binary_crossentropy\",\n",
    "    metrics=[tf.keras.metrics.AUC(name=\"auc\")]\n",
    ")\n",
    "print(\"✅ Model compiled successfully!\")\n",
    "\n",
    "history = model.fit(\n",
    "    train_generator,\n",
    "    validation_data=val_generator,\n",
    "    initial_epoch=3,  # resume from where we left off when loading last best weights\n",
    "    epochs=5,\n",
    "    verbose=1,\n",
    "    callbacks=callbacks\n",
    ")\n",
    "val_auc = history.history.get(\"val_auc\", [0])[-1]\n",
    "print(f\"✅ Continued fine-tuning done — new Validation AUC ≈ {val_auc:.4f}\")\n",
    "model.save(\"final_resnet_finetuned.h5\")\n",
    "\n",
    "from IPython.display import FileLink\n",
    "FileLink(\"final_resnet_finetuned.h5\")\n"
   ]
  },
  {
   "cell_type": "code",
   "execution_count": 14,
   "id": "3542aeb3",
   "metadata": {
    "execution": {
     "iopub.execute_input": "2025-10-08T18:43:53.312908Z",
     "iopub.status.busy": "2025-10-08T18:43:53.312189Z",
     "iopub.status.idle": "2025-10-08T18:43:53.334322Z",
     "shell.execute_reply": "2025-10-08T18:43:53.333350Z"
    },
    "papermill": {
     "duration": 0.308049,
     "end_time": "2025-10-08T18:43:53.335785",
     "exception": false,
     "start_time": "2025-10-08T18:43:53.027736",
     "status": "completed"
    },
    "tags": []
   },
   "outputs": [
    {
     "name": "stdout",
     "output_type": "stream",
     "text": [
      "['layers', 'optimizer', 'vars']\n"
     ]
    }
   ],
   "source": [
    "import h5py\n",
    "f = h5py.File(\"/kaggle/input/resnetfinetune3epoch/resnet_finetune.weights.h5\", \"r\")\n",
    "print(list(f.keys()))"
   ]
  },
  {
   "cell_type": "code",
   "execution_count": 15,
   "id": "69e57cda",
   "metadata": {
    "execution": {
     "iopub.execute_input": "2025-10-08T18:43:54.012914Z",
     "iopub.status.busy": "2025-10-08T18:43:54.012182Z",
     "iopub.status.idle": "2025-10-08T20:04:44.743638Z",
     "shell.execute_reply": "2025-10-08T20:04:44.742687Z"
    },
    "papermill": {
     "duration": 4851.129878,
     "end_time": "2025-10-08T20:04:44.745342",
     "exception": false,
     "start_time": "2025-10-08T18:43:53.615464",
     "status": "completed"
    },
    "tags": []
   },
   "outputs": [
    {
     "name": "stdout",
     "output_type": "stream",
     "text": [
      "\n",
      "Generating predictions for submission...\n",
      "\u001b[1m1498/1498\u001b[0m \u001b[32m━━━━━━━━━━━━━━━━━━━━\u001b[0m\u001b[37m\u001b[0m \u001b[1m4844s\u001b[0m 3s/step\n",
      "✅ Submission file created successfully: submission.csv\n",
      "             Image_name  Atelectasis  Cardiomegaly  Consolidation     Edema  \\\n",
      "0  00000002_002_001.jpg     0.559122      0.546943       0.416455  0.382842   \n",
      "1  00000002_001_001.jpg     0.743050      0.576383       0.456502  0.241495   \n",
      "2  00000002_001_002.jpg     0.714518      0.533089       0.613938  0.385422   \n",
      "3  00000008_001_001.jpg     0.885486      0.754806       0.631565  0.463744   \n",
      "4  00000008_002_001.jpg     0.638492      0.635211       0.570083  0.528030   \n",
      "\n",
      "   Enlarged Cardiomediastinum  Fracture  Lung Lesion  Lung Opacity  \\\n",
      "0                    0.687344  0.452735     0.141841      0.686748   \n",
      "1                    0.716566  0.548882     0.044555      0.754154   \n",
      "2                    0.719916  0.647671     0.155505      0.834968   \n",
      "3                    0.887164  0.304774     0.036391      0.928583   \n",
      "4                    0.758540  0.349465     0.277345      0.828594   \n",
      "\n",
      "   No Finding  Pleural Effusion  Pleural Other  Pneumonia  Pneumothorax  \\\n",
      "0    0.094080          0.476298       0.228099   0.272526      0.168676   \n",
      "1    0.045070          0.665482       0.215480   0.197211      0.083826   \n",
      "2    0.034798          0.700839       0.325294   0.467363      0.150729   \n",
      "3    0.004935          0.794423       0.060079   0.167614      0.144925   \n",
      "4    0.029542          0.550727       0.125221   0.338221      0.201394   \n",
      "\n",
      "   Support Devices  \n",
      "0         0.453438  \n",
      "1         0.392757  \n",
      "2         0.391851  \n",
      "3         0.839394  \n",
      "4         0.669959  \n"
     ]
    }
   ],
   "source": [
    "# ----------------------------------------\n",
    "# 🔮 Generate predictions and submission (baseline 3 epochs + 3 new epochs of ResNet50 model using MSKF partial fold)\n",
    "# ----------------------------------------\n",
    "print(\"\\nGenerating predictions for submission...\")\n",
    "# load best checkpoint for inference\n",
    "# model = build_resnet_model(num_classes=14)\n",
    "# model.load_weights(\"/kaggle/input/resnetfinetune3epoch/resnet_finetune.weights.h5\")  # 3+1 epochs model\n",
    "# print(\"✅ Full model loaded successfully!\")\n",
    "\n",
    "# define test_df (important for submission)\n",
    "test_df = pd.read_csv(\"/kaggle/input/grand-xray-slam-division-b/sample_submission_2.csv\")\n",
    "test_df[\"Image_name\"] = test_df[\"Image_name\"].astype(str)\n",
    "\n",
    "test_generator = XRayDataGenerator(test_df, batch_size=32, is_test=True)\n",
    "preds = model.predict(test_generator, verbose=1)\n",
    "\n",
    "submission = pd.DataFrame(preds, columns=conditions)\n",
    "submission.insert(0, \"Image_name\", test_df[\"Image_name\"].values) # start, column, \n",
    "submission.to_csv(\"ResNet1submission.csv\", index=False)\n",
    "\n",
    "print(\"✅ Submission file created successfully: submission.csv\")\n",
    "print(submission.head())"
   ]
  },
  {
   "cell_type": "code",
   "execution_count": null,
   "id": "e7cfbc14",
   "metadata": {
    "papermill": {
     "duration": 0.347909,
     "end_time": "2025-10-08T20:04:45.441895",
     "exception": false,
     "start_time": "2025-10-08T20:04:45.093986",
     "status": "completed"
    },
    "tags": []
   },
   "outputs": [],
   "source": []
  }
 ],
 "metadata": {
  "kaggle": {
   "accelerator": "none",
   "dataSources": [
    {
     "databundleVersionId": 13471427,
     "isSourceIdPinned": false,
     "sourceId": 113002,
     "sourceType": "competition"
    },
    {
     "datasetId": 8427335,
     "sourceId": 13296407,
     "sourceType": "datasetVersion"
    },
    {
     "isSourceIdPinned": false,
     "modelId": 466601,
     "modelInstanceId": 450241,
     "sourceId": 600891,
     "sourceType": "modelInstanceVersion"
    },
    {
     "isSourceIdPinned": false,
     "modelId": 466903,
     "modelInstanceId": 450552,
     "sourceId": 601239,
     "sourceType": "modelInstanceVersion"
    }
   ],
   "dockerImageVersionId": 31153,
   "isGpuEnabled": false,
   "isInternetEnabled": true,
   "language": "python",
   "sourceType": "notebook"
  },
  "kernelspec": {
   "display_name": "Python 3",
   "language": "python",
   "name": "python3"
  },
  "language_info": {
   "codemirror_mode": {
    "name": "ipython",
    "version": 3
   },
   "file_extension": ".py",
   "mimetype": "text/x-python",
   "name": "python",
   "nbconvert_exporter": "python",
   "pygments_lexer": "ipython3",
   "version": "3.11.13"
  },
  "papermill": {
   "default_parameters": {},
   "duration": 24816.000027,
   "end_time": "2025-10-08T20:04:48.783834",
   "environment_variables": {},
   "exception": null,
   "input_path": "__notebook__.ipynb",
   "output_path": "__notebook__.ipynb",
   "parameters": {},
   "start_time": "2025-10-08T13:11:12.783807",
   "version": "2.6.0"
  }
 },
 "nbformat": 4,
 "nbformat_minor": 5
}
